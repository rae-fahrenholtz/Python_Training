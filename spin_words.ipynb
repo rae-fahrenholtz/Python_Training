{
 "cells": [
  {
   "cell_type": "markdown",
   "id": "ee8b6649-e575-4ed7-963a-5b4cf6f6fd7c",
   "metadata": {},
   "source": [
    "Create a function the reverses the letters in a word if the word is 5 characters or longer"
   ]
  },
  {
   "cell_type": "code",
   "execution_count": 5,
   "id": "aa726e3a",
   "metadata": {},
   "outputs": [],
   "source": [
    "import numpy as np"
   ]
  },
  {
   "cell_type": "code",
   "execution_count": 147,
   "id": "d8ec0aef",
   "metadata": {},
   "outputs": [],
   "source": [
    "def spin_words(sentence):\n",
    "  list_ans = []\n",
    "  for i in range(len(sentence.split())):\n",
    "    if len(list(sentence.split()[i])) >=5:\n",
    "      list_ans.append(sentence.split()[i][::-1])  \n",
    "    else:\n",
    "      list_ans.append(sentence.split()[i])\n",
    "  new_sentence = \" \".join(list_ans)\n",
    "  return(new_sentence)  "
   ]
  },
  {
   "cell_type": "code",
   "execution_count": 148,
   "id": "59fd4f4b",
   "metadata": {},
   "outputs": [],
   "source": [
    "list_sentence = spin_words(x)"
   ]
  },
  {
   "cell_type": "code",
   "execution_count": 149,
   "id": "223cfa4f",
   "metadata": {},
   "outputs": [
    {
     "data": {
      "text/plain": [
       "'gninnipS my sdrow'"
      ]
     },
     "execution_count": 149,
     "metadata": {},
     "output_type": "execute_result"
    }
   ],
   "source": [
    "list_sentence"
   ]
  },
  {
   "cell_type": "code",
   "execution_count": 2,
   "id": "e06157c9",
   "metadata": {},
   "outputs": [],
   "source": [
    "def spin_words2(sentence):\n",
    "    # Your code goes here\n",
    "    return \" \".join([x[::-1] if len(x) >= 5 else x for x in sentence.split(\" \")])"
   ]
  },
  {
   "cell_type": "code",
   "execution_count": 3,
   "id": "420beb4a",
   "metadata": {},
   "outputs": [],
   "source": [
    "sentence = \"Spinning my words\""
   ]
  },
  {
   "cell_type": "code",
   "execution_count": 4,
   "id": "daeca0b6",
   "metadata": {},
   "outputs": [
    {
     "data": {
      "text/plain": [
       "'gninnipS my sdrow'"
      ]
     },
     "execution_count": 4,
     "metadata": {},
     "output_type": "execute_result"
    }
   ],
   "source": [
    "spin_words2(sentence)"
   ]
  },
  {
   "cell_type": "code",
   "execution_count": null,
   "id": "5c835886-fe78-4218-a398-b2658d5e63e4",
   "metadata": {},
   "outputs": [],
   "source": []
  }
 ],
 "metadata": {
  "kernelspec": {
   "display_name": "Python 3 (ipykernel)",
   "language": "python",
   "name": "python3"
  },
  "language_info": {
   "codemirror_mode": {
    "name": "ipython",
    "version": 3
   },
   "file_extension": ".py",
   "mimetype": "text/x-python",
   "name": "python",
   "nbconvert_exporter": "python",
   "pygments_lexer": "ipython3",
   "version": "3.9.7"
  }
 },
 "nbformat": 4,
 "nbformat_minor": 5
}
