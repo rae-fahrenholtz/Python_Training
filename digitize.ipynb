{
 "cells": [
  {
   "cell_type": "markdown",
   "id": "13d1e314-29c8-4c8b-a0b2-a1ff8b72d29c",
   "metadata": {},
   "source": [
    "Convert number to reversed array of digits\n",
    "Given a random non-negative number, you have to return the digits of this number within an array in reverse order.\n",
    "\n",
    "Example:\n",
    "348597 => [7,9,5,8,4,3]\n",
    "0 => [0]"
   ]
  },
  {
   "cell_type": "code",
   "execution_count": 41,
   "id": "2ebb6cfe-cc59-4555-a95f-cfecc77656cd",
   "metadata": {},
   "outputs": [],
   "source": [
    "def digitize(n):\n",
    "    return([int(x) for x in str(n)][::-1])"
   ]
  },
  {
   "cell_type": "code",
   "execution_count": 42,
   "id": "617ec5cc-ee4f-4182-ace5-6b6f7f900694",
   "metadata": {},
   "outputs": [
    {
     "data": {
      "text/plain": [
       "[5, 4, 3, 2, 1]"
      ]
     },
     "execution_count": 42,
     "metadata": {},
     "output_type": "execute_result"
    }
   ],
   "source": [
    "digitize(12345)"
   ]
  },
  {
   "cell_type": "code",
   "execution_count": 43,
   "id": "18624951-5f82-48c2-86a5-3b44ee1eb9b2",
   "metadata": {},
   "outputs": [
    {
     "data": {
      "text/plain": [
       "[0]"
      ]
     },
     "execution_count": 43,
     "metadata": {},
     "output_type": "execute_result"
    }
   ],
   "source": [
    "digitize(0)"
   ]
  }
 ],
 "metadata": {
  "kernelspec": {
   "display_name": "Python 3 (ipykernel)",
   "language": "python",
   "name": "python3"
  },
  "language_info": {
   "codemirror_mode": {
    "name": "ipython",
    "version": 3
   },
   "file_extension": ".py",
   "mimetype": "text/x-python",
   "name": "python",
   "nbconvert_exporter": "python",
   "pygments_lexer": "ipython3",
   "version": "3.9.7"
  }
 },
 "nbformat": 4,
 "nbformat_minor": 5
}
