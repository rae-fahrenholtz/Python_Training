{
 "cells": [
  {
   "cell_type": "markdown",
   "id": "166d8847",
   "metadata": {},
   "source": [
    "The company you work for has just been awarded a contract to build a payment gateway. In order to help move things along, you have volunteered to create a function that will take a float and return the amount formatting in dollars and cents.\n",
    "\n",
    "39.99 becomes $39.99\n",
    "\n",
    "The rest of your team will make sure that the argument is sanitized before being passed to your function although you will need to account for adding trailing zeros if they are missing (though you won't have to worry about a dangling period).\n",
    "\n",
    "Examples:\n",
    "\n",
    "3 needs to become $3.00\n",
    "\n",
    "3.1 needs to become $3.10\n",
    "Good luck! Your team knows they can count on you!"
   ]
  },
  {
   "cell_type": "code",
   "execution_count": 18,
   "id": "1a8e8de5",
   "metadata": {},
   "outputs": [],
   "source": [
    "def format_money(amount):\n",
    "    return(print('${:.2f}'.format(amount)))"
   ]
  },
  {
   "cell_type": "code",
   "execution_count": 19,
   "id": "e5e0a80f",
   "metadata": {},
   "outputs": [
    {
     "name": "stdout",
     "output_type": "stream",
     "text": [
      "$1.00\n"
     ]
    }
   ],
   "source": [
    "format_money(1.0)"
   ]
  },
  {
   "cell_type": "code",
   "execution_count": 20,
   "id": "a8ccd5e6",
   "metadata": {},
   "outputs": [
    {
     "name": "stdout",
     "output_type": "stream",
     "text": [
      "$39.99\n"
     ]
    }
   ],
   "source": [
    "format_money(39.99)"
   ]
  }
 ],
 "metadata": {
  "kernelspec": {
   "display_name": "Python 3 (ipykernel)",
   "language": "python",
   "name": "python3"
  },
  "language_info": {
   "codemirror_mode": {
    "name": "ipython",
    "version": 3
   },
   "file_extension": ".py",
   "mimetype": "text/x-python",
   "name": "python",
   "nbconvert_exporter": "python",
   "pygments_lexer": "ipython3",
   "version": "3.9.7"
  }
 },
 "nbformat": 4,
 "nbformat_minor": 5
}
