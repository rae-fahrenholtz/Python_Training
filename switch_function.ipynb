{
 "cells": [
  {
   "cell_type": "markdown",
   "id": "11b6e234-0783-4d3a-a5ea-43442a26de10",
   "metadata": {},
   "source": [
    "Fix this function"
   ]
  },
  {
   "cell_type": "code",
   "execution_count": 26,
   "id": "96ccd097",
   "metadata": {},
   "outputs": [],
   "source": [
    "def get_planet_name(id):\n",
    "    switcher = {\n",
    "        1: \"Mercury\",\n",
    "        2: \"Venus\",\n",
    "        3: \"Earth\",\n",
    "        4: \"Mars\",\n",
    "        5: \"Jupiter\",\n",
    "        6: \"Saturn\",\n",
    "        7: \"Uranus\",  \n",
    "        8: \"Neptune\"\n",
    "    }\n",
    "    return switcher.get(id)"
   ]
  },
  {
   "cell_type": "code",
   "execution_count": 27,
   "id": "722fa7c3",
   "metadata": {},
   "outputs": [
    {
     "data": {
      "text/plain": [
       "'Earth'"
      ]
     },
     "execution_count": 27,
     "metadata": {},
     "output_type": "execute_result"
    }
   ],
   "source": [
    "get_planet_name(3)"
   ]
  },
  {
   "cell_type": "code",
   "execution_count": 41,
   "id": "c6f53546",
   "metadata": {},
   "outputs": [],
   "source": [
    "def get_planet_name(id):\n",
    "    return {\n",
    "        1: \"Mercury\",\n",
    "        2: \"Venus\",\n",
    "        3: \"Earth\",\n",
    "        4: \"Mars\",\n",
    "        5: \"Jupiter\",\n",
    "        6: \"Saturn\",\n",
    "        7: \"Uranus\",  \n",
    "        8: \"Neptune\",\n",
    "    }.get(id)"
   ]
  },
  {
   "cell_type": "code",
   "execution_count": 42,
   "id": "df871e8d",
   "metadata": {},
   "outputs": [
    {
     "data": {
      "text/plain": [
       "'Earth'"
      ]
     },
     "execution_count": 42,
     "metadata": {},
     "output_type": "execute_result"
    }
   ],
   "source": [
    "get_planet_name(3)"
   ]
  }
 ],
 "metadata": {
  "kernelspec": {
   "display_name": "Python 3 (ipykernel)",
   "language": "python",
   "name": "python3"
  },
  "language_info": {
   "codemirror_mode": {
    "name": "ipython",
    "version": 3
   },
   "file_extension": ".py",
   "mimetype": "text/x-python",
   "name": "python",
   "nbconvert_exporter": "python",
   "pygments_lexer": "ipython3",
   "version": "3.9.7"
  }
 },
 "nbformat": 4,
 "nbformat_minor": 5
}
