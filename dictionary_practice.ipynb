{
 "cells": [
  {
   "cell_type": "markdown",
   "id": "68f163ad-8af6-49f7-8ca7-1ec87e609866",
   "metadata": {},
   "source": [
    "Here is a piece of code:\n",
    "\n",
    "def get_status(is_busy):\n",
    "    status = \"busy\" if is_busy else \"available\"\n",
    "    return status\n",
    "Expected Behaviour\n",
    "Function should return a dictionary/Object/Hash with \"status\" as a key, whose value can : \"busy\" or \"available\" depending on the truth value of the argument is_busy.\n",
    "\n",
    "But as you will see after clicking RUN or ATTEMPT this code has several bugs, please fix them.\n",
    "\n"
   ]
  },
  {
   "cell_type": "code",
   "execution_count": null,
   "id": "daba309b-a4a5-4e15-aea7-6d27462f6194",
   "metadata": {},
   "outputs": [],
   "source": [
    "def get_status(is_busy):\n",
    "    status = \"busy\" if is_busy else \"available\"\n",
    "    return {\"status\" : status}"
   ]
  },
  {
   "cell_type": "code",
   "execution_count": 118,
   "id": "83a5c047-5546-4ee6-b8a2-51fdcf5c3a48",
   "metadata": {},
   "outputs": [
    {
     "name": "stdout",
     "output_type": "stream",
     "text": [
      "busy\n"
     ]
    }
   ],
   "source": [
    "get_status(True)"
   ]
  },
  {
   "cell_type": "code",
   "execution_count": 119,
   "id": "b22f070a-c575-4d21-8c49-7e7324ce35f5",
   "metadata": {},
   "outputs": [
    {
     "name": "stdout",
     "output_type": "stream",
     "text": [
      "available\n"
     ]
    }
   ],
   "source": [
    "get_status(False)"
   ]
  }
 ],
 "metadata": {
  "kernelspec": {
   "display_name": "Python 3 (ipykernel)",
   "language": "python",
   "name": "python3"
  },
  "language_info": {
   "codemirror_mode": {
    "name": "ipython",
    "version": 3
   },
   "file_extension": ".py",
   "mimetype": "text/x-python",
   "name": "python",
   "nbconvert_exporter": "python",
   "pygments_lexer": "ipython3",
   "version": "3.9.7"
  }
 },
 "nbformat": 4,
 "nbformat_minor": 5
}
