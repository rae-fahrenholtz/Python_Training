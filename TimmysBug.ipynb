{
 "cells": [
  {
   "cell_type": "markdown",
   "id": "0070090d",
   "metadata": {},
   "source": [
    "Oh no! Timmy hasn't followed instructions very carefully and forgot how to use the new String Template feature, Help Timmy with his string template so it works as he expects!\n",
    "\n",
    "```\n",
    "def build_string(*args):\n",
    "    return \"I like {1}!\".format(\",\".join(args))\n",
    "```"
   ]
  },
  {
   "cell_type": "code",
   "execution_count": 6,
   "id": "fa7a08e6",
   "metadata": {},
   "outputs": [],
   "source": [
    "def build_string(*args):\n",
    "    return(\"I like {}!\".format(\", \".join(args)))"
   ]
  },
  {
   "cell_type": "code",
   "execution_count": 7,
   "id": "7cd749eb",
   "metadata": {},
   "outputs": [
    {
     "data": {
      "text/plain": [
       "'I like string, cheese!'"
      ]
     },
     "execution_count": 7,
     "metadata": {},
     "output_type": "execute_result"
    }
   ],
   "source": [
    "build_string('string', 'cheese')"
   ]
  }
 ],
 "metadata": {
  "kernelspec": {
   "display_name": "Python 3 (ipykernel)",
   "language": "python",
   "name": "python3"
  },
  "language_info": {
   "codemirror_mode": {
    "name": "ipython",
    "version": 3
   },
   "file_extension": ".py",
   "mimetype": "text/x-python",
   "name": "python",
   "nbconvert_exporter": "python",
   "pygments_lexer": "ipython3",
   "version": "3.9.7"
  }
 },
 "nbformat": 4,
 "nbformat_minor": 5
}
