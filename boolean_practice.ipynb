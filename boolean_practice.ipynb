{
 "cells": [
  {
   "cell_type": "markdown",
   "id": "d325aa6d-1441-4887-a045-248df181943b",
   "metadata": {},
   "source": [
    "Create a function called _if which takes 3 arguments: a boolean value bool and 2 functions (which do not take any parameters): func1 and func2\n",
    "\n",
    "When bool is truth-ish, func1 should be called, otherwise call the func2.\n",
    "\n",
    "Example:\n",
    "def truthy(): \n",
    "  print(\"True\")\n",
    "  \n",
    "def falsey(): \n",
    "  print(\"False\")\n",
    "  \n",
    "_if(True, truthy, falsey)\n",
    "\n",
    "prints 'True' to the console"
   ]
  },
  {
   "cell_type": "code",
   "execution_count": 9,
   "id": "9037bbfb-183f-4634-be13-6276065846e7",
   "metadata": {},
   "outputs": [],
   "source": [
    "def truthy(): \n",
    "  print(\"True\")\n",
    "\n",
    "def falsey(): \n",
    "  print(\"False\")"
   ]
  },
  {
   "cell_type": "code",
   "execution_count": 45,
   "id": "0eaf93f9-a513-4c2c-9b9d-b16d659d89b1",
   "metadata": {},
   "outputs": [],
   "source": [
    "def _if(bool_arg, func1, func2):\n",
    "    if bool_arg:\n",
    "        return(func1())\n",
    "    else:\n",
    "        return(func2())"
   ]
  },
  {
   "cell_type": "code",
   "execution_count": 47,
   "id": "6ccdb171-c8e9-4a46-a84a-638125d1e4b3",
   "metadata": {},
   "outputs": [],
   "source": [
    "def _if2(bool_arg, func1, func2): return(func1() if bool_arg else func2())"
   ]
  },
  {
   "cell_type": "code",
   "execution_count": 49,
   "id": "1f188229-4443-4544-ae5e-7db692043d23",
   "metadata": {},
   "outputs": [
    {
     "name": "stdout",
     "output_type": "stream",
     "text": [
      "False\n"
     ]
    }
   ],
   "source": [
    "_if2(False, truthy, falsey)"
   ]
  }
 ],
 "metadata": {
  "kernelspec": {
   "display_name": "Python 3 (ipykernel)",
   "language": "python",
   "name": "python3"
  },
  "language_info": {
   "codemirror_mode": {
    "name": "ipython",
    "version": 3
   },
   "file_extension": ".py",
   "mimetype": "text/x-python",
   "name": "python",
   "nbconvert_exporter": "python",
   "pygments_lexer": "ipython3",
   "version": "3.9.7"
  }
 },
 "nbformat": 4,
 "nbformat_minor": 5
}
