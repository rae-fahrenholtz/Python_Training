{
 "cells": [
  {
   "cell_type": "markdown",
   "id": "17a1de4f",
   "metadata": {},
   "source": [
    "Unfinished Loop - Bug Fixing #1\n",
    "Oh no, Timmy's created an infinite loop! Help Timmy find and fix the bug in his unfinished for loop!\n",
    "\n",
    "```\n",
    "def create_array(n):\n",
    "    res=[]\n",
    "    i=1\n",
    "    while i<=n: res+=[i]\n",
    "    return res\n",
    "```"
   ]
  },
  {
   "cell_type": "code",
   "execution_count": 1,
   "id": "fea50ae4",
   "metadata": {},
   "outputs": [],
   "source": [
    "def create_array(n):\n",
    "    res = []\n",
    "    i = 1\n",
    "    while i<=n: \n",
    "        res+=[i]\n",
    "        i+=1\n",
    "    return(res)"
   ]
  },
  {
   "cell_type": "code",
   "execution_count": 4,
   "id": "d50b3d5f",
   "metadata": {},
   "outputs": [
    {
     "data": {
      "text/plain": [
       "[1, 2]"
      ]
     },
     "execution_count": 4,
     "metadata": {},
     "output_type": "execute_result"
    }
   ],
   "source": [
    "create_array(2)"
   ]
  },
  {
   "cell_type": "code",
   "execution_count": 8,
   "id": "5aa3abcc",
   "metadata": {},
   "outputs": [
    {
     "data": {
      "text/plain": [
       "[1, 2, 3, 4]"
      ]
     },
     "execution_count": 8,
     "metadata": {},
     "output_type": "execute_result"
    }
   ],
   "source": [
    "create_array(4)"
   ]
  }
 ],
 "metadata": {
  "kernelspec": {
   "display_name": "Python 3 (ipykernel)",
   "language": "python",
   "name": "python3"
  },
  "language_info": {
   "codemirror_mode": {
    "name": "ipython",
    "version": 3
   },
   "file_extension": ".py",
   "mimetype": "text/x-python",
   "name": "python",
   "nbconvert_exporter": "python",
   "pygments_lexer": "ipython3",
   "version": "3.9.7"
  }
 },
 "nbformat": 4,
 "nbformat_minor": 5
}
