{
 "cells": [
  {
   "cell_type": "markdown",
   "id": "a8a593c2",
   "metadata": {},
   "source": [
    "Create a function which answers the question \"Are you playing banjo?\".\n",
    "If your name starts with the letter \"R\" or lower case \"r\", you are playing banjo!\n",
    "\n",
    "The function takes a name as its only argument, and returns one of the following strings:"
   ]
  },
  {
   "cell_type": "markdown",
   "id": "72b65641",
   "metadata": {},
   "source": [
    "```\n",
    "def are_you_playing_banjo(name):\n",
    "    # Implement me!\n",
    "    return name\n",
    "```\n",
    "    "
   ]
  },
  {
   "cell_type": "markdown",
   "id": "9a1f0acb",
   "metadata": {},
   "source": [
    "```\n",
    "name + \" plays banjo\" \n",
    "name + \" does not play banjo\"\n",
    "```"
   ]
  },
  {
   "cell_type": "code",
   "execution_count": 77,
   "id": "61747928",
   "metadata": {},
   "outputs": [],
   "source": [
    "name = \"martin\""
   ]
  },
  {
   "cell_type": "code",
   "execution_count": 78,
   "id": "64c042fa",
   "metadata": {},
   "outputs": [],
   "source": [
    "name2 = \"Rikki\""
   ]
  },
  {
   "cell_type": "code",
   "execution_count": 79,
   "id": "9e244a69",
   "metadata": {},
   "outputs": [],
   "source": [
    "name3 = \"bravo\""
   ]
  },
  {
   "cell_type": "code",
   "execution_count": 80,
   "id": "f6799b45",
   "metadata": {},
   "outputs": [],
   "source": [
    "name4 = 'rolf'"
   ]
  },
  {
   "cell_type": "code",
   "execution_count": 88,
   "id": "09529269",
   "metadata": {},
   "outputs": [],
   "source": [
    "def are_you_playing_the_banjo(name):\n",
    "    if name.lower()[0] == \"r\":\n",
    "        return(name + \" plays banjo\")\n",
    "    else:\n",
    "        return(name + \" does not play banjo\")"
   ]
  },
  {
   "cell_type": "code",
   "execution_count": null,
   "id": "a9196ed8",
   "metadata": {},
   "outputs": [],
   "source": [
    "def areYouPlayingBanjo(name):\n",
    "    return name + (' plays' if name[0].lower() == 'r' else ' does not play') + \" banjo\";"
   ]
  },
  {
   "cell_type": "code",
   "execution_count": 89,
   "id": "7f1f02c6",
   "metadata": {},
   "outputs": [
    {
     "data": {
      "text/plain": [
       "'martin does not play banjo'"
      ]
     },
     "execution_count": 89,
     "metadata": {},
     "output_type": "execute_result"
    }
   ],
   "source": [
    "are_you_playing_the_banjo(name)"
   ]
  },
  {
   "cell_type": "code",
   "execution_count": 90,
   "id": "2859d446",
   "metadata": {},
   "outputs": [
    {
     "data": {
      "text/plain": [
       "'Rikki plays banjo'"
      ]
     },
     "execution_count": 90,
     "metadata": {},
     "output_type": "execute_result"
    }
   ],
   "source": [
    "are_you_playing_the_banjo(name2)"
   ]
  },
  {
   "cell_type": "code",
   "execution_count": 91,
   "id": "8be796a8",
   "metadata": {},
   "outputs": [
    {
     "data": {
      "text/plain": [
       "'bravo does not play banjo'"
      ]
     },
     "execution_count": 91,
     "metadata": {},
     "output_type": "execute_result"
    }
   ],
   "source": [
    "are_you_playing_the_banjo(name3)"
   ]
  },
  {
   "cell_type": "code",
   "execution_count": 92,
   "id": "e550262e",
   "metadata": {},
   "outputs": [
    {
     "data": {
      "text/plain": [
       "'rolf plays banjo'"
      ]
     },
     "execution_count": 92,
     "metadata": {},
     "output_type": "execute_result"
    }
   ],
   "source": [
    "are_you_playing_the_banjo(name4)"
   ]
  },
  {
   "cell_type": "code",
   "execution_count": 94,
   "id": "24841001",
   "metadata": {},
   "outputs": [
    {
     "data": {
      "text/plain": [
       "'martin does not play banjo'"
      ]
     },
     "execution_count": 94,
     "metadata": {},
     "output_type": "execute_result"
    }
   ],
   "source": [
    "areYouPlayingBanjo(name)"
   ]
  },
  {
   "cell_type": "code",
   "execution_count": 95,
   "id": "948f47e2",
   "metadata": {},
   "outputs": [
    {
     "data": {
      "text/plain": [
       "'Rikki plays banjo'"
      ]
     },
     "execution_count": 95,
     "metadata": {},
     "output_type": "execute_result"
    }
   ],
   "source": [
    "areYouPlayingBanjo(name2)"
   ]
  },
  {
   "cell_type": "code",
   "execution_count": 96,
   "id": "11751a2a",
   "metadata": {},
   "outputs": [
    {
     "data": {
      "text/plain": [
       "'bravo does not play banjo'"
      ]
     },
     "execution_count": 96,
     "metadata": {},
     "output_type": "execute_result"
    }
   ],
   "source": [
    "areYouPlayingBanjo(name3)"
   ]
  }
 ],
 "metadata": {
  "kernelspec": {
   "display_name": "Python 3 (ipykernel)",
   "language": "python",
   "name": "python3"
  },
  "language_info": {
   "codemirror_mode": {
    "name": "ipython",
    "version": 3
   },
   "file_extension": ".py",
   "mimetype": "text/x-python",
   "name": "python",
   "nbconvert_exporter": "python",
   "pygments_lexer": "ipython3",
   "version": "3.9.7"
  }
 },
 "nbformat": 4,
 "nbformat_minor": 5
}
